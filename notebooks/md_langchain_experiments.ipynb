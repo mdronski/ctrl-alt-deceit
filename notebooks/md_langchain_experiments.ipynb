{
 "cells": [
  {
   "cell_type": "code",
   "execution_count": 3,
   "metadata": {},
   "outputs": [],
   "source": [
    "import langchain"
   ]
  },
  {
   "cell_type": "code",
   "execution_count": null,
   "metadata": {},
   "outputs": [],
   "source": []
  },
  {
   "cell_type": "code",
   "execution_count": null,
   "metadata": {},
   "outputs": [
    {
     "ename": "",
     "evalue": "",
     "output_type": "error",
     "traceback": [
      "\u001b[1;31mFailed to start the Kernel. \n",
      "\u001b[1;31mUnable to start Kernel 'ctrl-alt-deceit (Python 3.10.6)' due to a timeout waiting for the ports to get used. \n",
      "\u001b[1;31mView Jupyter <a href='command:jupyter.viewOutput'>log</a> for further details."
     ]
    }
   ],
   "source": [
    "import dotenv\n",
    "import os\n",
    "dotenv.load_dotenv(\"../.env\")"
   ]
  },
  {
   "cell_type": "code",
   "execution_count": 27,
   "metadata": {},
   "outputs": [
    {
     "name": "stdout",
     "output_type": "stream",
     "text": [
      "Here's a summary of important details about WeWork for a potential business partner:\n",
      "\n",
      "*   **Core Business Activities:** WeWork primarily provides co-working spaces.\n",
      "*   **Financial Health:**\n",
      "    *   Considered a major red flag due to its financial health.\n",
      "    *   In 2018, despite $1.8 billion in revenue, costs were exceptionally high.\n",
      "    *   Characterized by increasing leverage and an inflated valuation.\n",
      "*   **Reputation and Recent News:**\n",
      "    *   Widely criticized and viewed as a \"cautionary tale\" in the startup world.\n",
      "    *   Its business model has been questioned for a lack of innovation.\n",
      "    *   Associated with significant controversy, including a \"cult\" narrative around its former leadership.\n",
      "*   **Red Flags:**\n",
      "    *   **Severe Financial Concerns:** High costs, increasing debt, and an overvalued assessment.\n",
      "    *   **Questionable Business Model:** Perceived lack of innovation.\n",
      "    *   **Insider Selling:** Indicated by reports ahead of its IPO.\n",
      "    *   **Strong Warnings:** Financial analysts explicitly advised against investing in its IPO (\"Don't Buy WeWork's IPO At Any Price\").\n"
     ]
    }
   ],
   "source": [
    "from langchain_google_genai import ChatGoogleGenerativeAI\n",
    "from langchain.tools import TavilySearchResults\n",
    "from langchain_tavily import TavilySearch\n",
    "from langchain.prompts import ChatPromptTemplate\n",
    "import os\n",
    "\n",
    "# === 1. Initialize the Gemini-based LLM ===\n",
    "llm = ChatGoogleGenerativeAI(\n",
    "    model=\"gemini-2.5-flash\",  # or \"gemini-2.5-flash\" for lower latency & cost\n",
    "    temperature=0.0,\n",
    "    google_api_key=os.environ[\"GOOGLE_API_KEY\"]\n",
    ")\n",
    "\n",
    "\n",
    "\n",
    "# 2. Set up search tool (requires TAVILY_API_KEY in your env)\n",
    "search = TavilySearch(k=5, tavily_api_key=os.environ[\"TAVILY_API_KEY\"])\n",
    "\n",
    "# 3. Define prompt\n",
    "prompt_template = ChatPromptTemplate.from_template(\"\"\"\n",
    "You are an AI business analyst.  \n",
    "Given the following raw web search results about the company \"{company}\",  \n",
    "summarize important details for a potential business partner.  \n",
    "Highlight:\n",
    "- Core business activities  \n",
    "- Financial health (if mentioned)  \n",
    "- Reputation and recent news  \n",
    "- Any red flags (lawsuits, fraud, layoffs, controversies)  \n",
    "\n",
    "Results:\n",
    "{results}\n",
    "\n",
    "Return a concise, bullet-point summary.\n",
    "\"\"\")\n",
    "\n",
    "# 4. Function to analyze a company\n",
    "def analyze_company(company_name):\n",
    "    search_results = search.run(company_name + \" company news financial red flags\")\n",
    "    prompt = prompt_template.format(company=company_name, results=search_results)\n",
    "    summary = llm.invoke(prompt)\n",
    "    return summary.content\n",
    "\n",
    "# Example usage\n",
    "if __name__ == \"__main__\":\n",
    "    print(analyze_company(\"WeWork\"))"
   ]
  },
  {
   "cell_type": "code",
   "execution_count": 7,
   "metadata": {},
   "outputs": [
    {
     "name": "stdout",
     "output_type": "stream",
     "text": [
      "--- Company Intelligence Report ---\n",
      "\n",
      "Company: WeWork\n",
      "\n",
      "Summary:\n",
      "Okay, here's a summary of WeWork based on the provided search results, covering its core business, financial health, and recent news:\n",
      "\n",
      "**Core Business Activities:**\n",
      "\n",
      "*   WeWork's core business revolves around leasing office buildings and transforming them into shared workspaces. They then rent out this space to freelancers, startups, and larger corporations, often on flexible, short-term leases. The company provides amenities like free beer to tenants.\n",
      "\n",
      "**Financial Health:**\n",
      "\n",
      "*   **Pre-Bankruptcy Issues:** WeWork's business model was known to be expensive with a questionable path to profitability. The company was significantly overextended in terms of building leases and renovation costs.\n",
      "*   **2019 IPO Failure:** WeWork's attempt to go public in 2019 failed spectacularly due to concerns about its financials, business practices, and the leadership of its CEO, Adam Neumann. This led to major funders pulling out and the company nearing bankruptcy.\n",
      "*   **Bankruptcy Filing:** WeWork filed for bankruptcy in November 2023, reporting $19 billion in liabilities and $15 billion in assets. They had over 500 locations, primarily in the US and Canada.\n",
      "*   **Post-Bankruptcy Emergence:** WeWork emerged from bankruptcy in June 2024 after negotiating with investors, lenders, and landlords. They managed to tear up over 100 leases and wipe away over $4 billion of debt.\n",
      "*   **Current Status:** As of mid-2024, WeWork has approximately 170 locations in the U.S. and Canada and is reportedly profitable and growing again.\n",
      "\n",
      "**Recent News and Events:**\n",
      "\n",
      "*   **Adam Neumann Lawsuits:** Adam Neumann, the co-founder and former CEO, has been the subject of multiple lawsuits. One lawsuit involved a shareholder challenging a near-$1.7 billion leaving package approved for Neumann.\n",
      "*   **Landlord Lawsuits:** WeWork has faced lawsuits from landlords for breach of contract, including failing to pay rent and closing locations.\n",
      "*   **SoftBank Lawsuits:** SoftBank, a major investor, cancelled a $3 billion tender offer to buy shares, leading to lawsuits from WeWork and Neumann. These lawsuits were later settled.\n",
      "*   **Workplace Culture Issues:** The company has faced allegations of a toxic work culture, including gender pay gaps, marijuana use by executives, and instances of sexual harassment and discrimination.\n",
      "\n",
      "Red Flags:\n",
      "- Lawsuits\n",
      "- Bankruptcy\n"
     ]
    }
   ],
   "source": [
    "from typing import TypedDict\n",
    "from langgraph.graph import StateGraph, START, END\n",
    "from langchain_google_genai import ChatGoogleGenerativeAI\n",
    "from langchain.prompts import ChatPromptTemplate\n",
    "from langchain.tools import TavilySearchResults\n",
    "import os\n",
    "\n",
    "# --- 2. Define state ---\n",
    "class CompanyState(TypedDict):\n",
    "    company: str\n",
    "    search_results: str\n",
    "    summary: str\n",
    "    red_flags: str\n",
    "    report: str\n",
    "\n",
    "# --- 3. Initialize LLM & search ---\n",
    "llm = ChatGoogleGenerativeAI(\n",
    "    model=\"gemini-2.0-flash\",\n",
    "    temperature=0,\n",
    "    google_api_key=os.environ[\"GOOGLE_API_KEY\"]\n",
    ")\n",
    "\n",
    "search_tool = TavilySearchResults(k=5)\n",
    "\n",
    "# --- 4. Prompts ---\n",
    "summarize_prompt = ChatPromptTemplate.from_template(\"\"\"\n",
    "You are a business intelligence analyst.\n",
    "Summarize search results for \"{company}\" covering:\n",
    "- Core business activities\n",
    "- Financial health\n",
    "- Recent news or events\n",
    "Results:\n",
    "{results}\n",
    "\"\"\")\n",
    "\n",
    "redflag_prompt = ChatPromptTemplate.from_template(\"\"\"\n",
    "From this summary, identify any business risks:\n",
    "- Lawsuits\n",
    "- Fraud\n",
    "- Layoffs\n",
    "- Bankruptcy\n",
    "If none found, say: \"No significant red flags identified.\"\n",
    "Summary:\n",
    "{summary}\n",
    "\"\"\")\n",
    "\n",
    "# --- 5. Nodes ---\n",
    "def search_node(state: CompanyState) -> CompanyState:\n",
    "    results = search_tool.run(f\"{state['company']} news financial lawsuits controversies\")\n",
    "    return {**state, \"search_results\": results}\n",
    "\n",
    "def summarize_node(state: CompanyState) -> CompanyState:\n",
    "    prompt = summarize_prompt.format(company=state[\"company\"], results=state[\"search_results\"])\n",
    "    res = llm.invoke(prompt)\n",
    "    return {**state, \"summary\": res.content}\n",
    "\n",
    "def redflag_node(state: CompanyState) -> CompanyState:\n",
    "    prompt = redflag_prompt.format(summary=state[\"summary\"])\n",
    "    res = llm.invoke(prompt)\n",
    "    return {**state, \"red_flags\": res.content}\n",
    "\n",
    "def report_node(state: CompanyState) -> CompanyState:\n",
    "    report = (\n",
    "        f\"--- Company Intelligence Report ---\\n\\n\"\n",
    "        f\"Company: {state['company']}\\n\\n\"\n",
    "        f\"Summary:\\n{state['summary']}\\n\\n\"\n",
    "        f\"Red Flags:\\n{state['red_flags']}\"\n",
    "    )\n",
    "    return {**state, \"report\": report}\n",
    "\n",
    "# --- 6. Build graph ---\n",
    "workflow = StateGraph(CompanyState)\n",
    "\n",
    "workflow.add_node(\"search\", search_node)\n",
    "workflow.add_node(\"summarize\", summarize_node)\n",
    "workflow.add_node(\"red_flags\", redflag_node)\n",
    "workflow.add_node(\"report\", report_node)\n",
    "\n",
    "workflow.add_edge(START, \"search\")\n",
    "workflow.add_edge(\"search\", \"summarize\")\n",
    "workflow.add_edge(\"summarize\", \"red_flags\")\n",
    "workflow.add_edge(\"red_flags\", \"report\")\n",
    "workflow.add_edge(\"report\", END)\n",
    "\n",
    "app = workflow.compile()\n",
    "\n",
    "# --- 7. Run ---\n",
    "if __name__ == \"__main__\":\n",
    "    result = app.invoke({\"company\": \"WeWork\"})\n",
    "    print(result[\"report\"])\n"
   ]
  },
  {
   "cell_type": "code",
   "execution_count": 8,
   "metadata": {},
   "outputs": [],
   "source": [
    "from langchain.chat_models import init_chat_model\n",
    "\n",
    "llm = init_chat_model(\"gemini-2.5-flash\", model_provider=\"google_genai\")"
   ]
  },
  {
   "cell_type": "code",
   "execution_count": null,
   "metadata": {},
   "outputs": [
    {
     "name": "stdout",
     "output_type": "stream",
     "text": [
      "================================\u001b[1m Human Message \u001b[0m=================================\n",
      "\n",
      "What are potential red flag about company called OpenAi as a potential business partner\n",
      "==================================\u001b[1m Ai Message \u001b[0m==================================\n",
      "Tool Calls:\n",
      "  tavily_search (4efe7d50-76d7-45d1-af95-0ec9e562101a)\n",
      " Call ID: 4efe7d50-76d7-45d1-af95-0ec9e562101a\n",
      "  Args:\n",
      "    query: OpenAI red flags business partner OR concerns OpenAI partnership\n",
      "=================================\u001b[1m Tool Message \u001b[0m=================================\n",
      "Name: tavily_search\n",
      "\n",
      "{\"query\": \"OpenAI red flags business partner OR concerns OpenAI partnership\", \"follow_up_questions\": null, \"answer\": null, \"images\": [], \"results\": [{\"url\": \"https://www.linkedin.com/posts/allisonlcarter_the-scoop-deepseek-raises-red-flags-for-activity-7290401488625942528-sD6i\", \"title\": \"DeepSeek raises red flags for OpenAI, U.S. Navy - PR Daily | Allison ...\", \"content\": \"I caution anyone using this for their business not to share any proprietary information. People are too quick to share information that shouldn'\", \"score\": 0.5370662, \"raw_content\": null}, {\"url\": \"https://www.prdaily.com/deepseek-raises-red-flags-for-openai-u-s-navy/\", \"title\": \"The Scoop: DeepSeek raises red flags for OpenAI, U.S. Navy\", \"content\": \"The U.S. Navy sent a stern warning to sailors not to use DeepSeek for either work or personal use. An email said it was “imperative” for “\", \"score\": 0.46935064, \"raw_content\": null}, {\"url\": \"https://www.reddit.com/r/singularity/comments/1cyn4yy/its_becoming_increasingly_clear_that_openai/\", \"title\": \"It's becoming increasingly clear that OpenAI employees leaving are ...\", \"content\": \"Also, they clearly stated their AI governance plan and it raises more than one red flag. I think your underselling here.\", \"score\": 0.36364743, \"raw_content\": null}, {\"url\": \"https://www.itpro.com/business/business-strategy/report-openai-considered-accusing-microsoft-of-anticompetitive-behavior\", \"title\": \"Report: OpenAI considered accusing Microsoft of anticompetitive ...\", \"content\": \"Now, a report in the *Wall Street Journal* alleging that \\\"tensions are reaching a boiling point\\\" amid disagreements over Microsoft's stake if OpenAI ditches the non-profit model, the tech giant's control over the AI developer's compute resources and AI products, as well as OpenAI's $3 billion acquisition of Windsurf, an AI coding startup. *The Information* reported that OpenAI has responded with an offer giving Microsoft a third of the new company, though it would give up rights to profit in the future. According to the report, OpenAI wants to provide its systems via a wider range of cloud providers, all rivals to Microsoft's Azure, while Microsoft wants to maintain access to OpenAI's models even after the company declares it has achieved Artificial General Intelligence, which under the current terms would end the partnership.\", \"score\": 0.2893069, \"raw_content\": null}, {\"url\": \"https://www.ainvest.com/news/microsoft-ai-ecosystem-strategic-risks-openai-partnership-2508/\", \"title\": \"Microsoft's AI Ecosystem and Strategic Risks in the OpenAI ... - AInvest\", \"content\": \"# Microsoft's AI Ecosystem and Strategic Risks in the OpenAI Partnership - OpenAI's $500B Stargate Project with Oracle/SoftBank threatens Azure's dominance as AWS/Google Cloud gain traction. - Microsoft counters with AI \\\"supermarket\\\" strategy, hosting 1,900+ models but lacks OpenAI's GPT-4 integration in Copilot. - Investors advised to underweight Microsoft while overweighting AWS, Google Cloud, and hardware firms like NVIDIA/AMD. The Microsoft-OpenAI partnership is a litmus test for the future of AI governance. 2. **Overweight Infrastructure Winners:** Invest in AWS, Google Cloud, NVIDIA, and AMD, which are poised to benefit from OpenAI's infrastructure diversification and the broader AI compute boom. What is the future of Microsoft's AI leadership amid OpenAI's regulatory and market challenges?\", \"score\": 0.2839382, \"raw_content\": null}], \"response_time\": 1.41}\n",
      "==================================\u001b[1m Ai Message \u001b[0m==================================\n",
      "\n",
      "When considering OpenAI as a business partner, several potential red flags and concerns have been raised:\n",
      "\n",
      "*   **Data Privacy and Proprietary Information:** There are warnings against sharing proprietary business information when using AI tools like those from OpenAI. This suggests a potential concern about data handling and the security of sensitive information.\n",
      "*   **AI Governance and Internal Disagreements:** OpenAI's AI governance plan has been noted to raise concerns. Additionally, reports indicate internal tensions and disagreements, particularly concerning its relationship with Microsoft, including issues over Microsoft's stake, control over compute resources, and product integration.\n",
      "*   **Competition and Diversification:** OpenAI's reported interest in diversifying its cloud providers beyond Microsoft Azure, and projects like \"Stargate\" with Oracle/SoftBank, suggest a desire to expand its infrastructure and potentially reduce reliance on a single partner. This could lead to a less exclusive or more complex partnership dynamic.\n",
      "*   **Anticompetitive Behavior Allegations:** There were reports that OpenAI considered accusing Microsoft of anticompetitive behavior, highlighting potential friction and power imbalances within their strategic partnership.\n",
      "\n",
      "These points suggest that potential partners should carefully consider data security, OpenAI's internal stability and governance, and the evolving competitive landscape of AI when evaluating a partnership.\n"
     ]
    }
   ],
   "source": [
    "from langchain_tavily import TavilySearch\n",
    "from langgraph.prebuilt import create_react_agent\n",
    "\n",
    "# Initialize Tavily Search Tool\n",
    "tavily_search_tool = TavilySearch(\n",
    "    max_results=5,\n",
    ")\n",
    "\n",
    "agent = create_react_agent(llm, [tavily_search_tool])\n",
    "\n",
    "user_input = \"What are potential red flag about company called OpenAi as a potential business partner\"\n",
    "\n",
    "for step in agent.stream(\n",
    "    {\"messages\": user_input},\n",
    "    stream_mode=\"values\",\n",
    "):\n",
    "    step[\"messages\"][-1].pretty_print()"
   ]
  },
  {
   "cell_type": "code",
   "execution_count": 1,
   "metadata": {},
   "outputs": [],
   "source": [
    "import gradio as gr\n",
    "import dotenv\n"
   ]
  },
  {
   "cell_type": "code",
   "execution_count": 2,
   "metadata": {},
   "outputs": [
    {
     "data": {
      "text/plain": [
       "False"
      ]
     },
     "execution_count": 2,
     "metadata": {},
     "output_type": "execute_result"
    }
   ],
   "source": [
    "dotenv.load_dotenv(\".env\")"
   ]
  },
  {
   "cell_type": "code",
   "execution_count": 3,
   "metadata": {},
   "outputs": [],
   "source": [
    "from langchain_tavily import TavilySearch\n",
    "\n",
    "tavily_search_tool = TavilySearch(\n",
    "    max_results=5,\n",
    "    topic=\"general\",\n",
    ")"
   ]
  },
  {
   "cell_type": "code",
   "execution_count": 33,
   "metadata": {},
   "outputs": [],
   "source": [
    "from langgraph.prebuilt import create_react_agent\n",
    "from langchain.chat_models import init_chat_model\n",
    "\n",
    "llm = init_chat_model(\"gemini-2.5-flash\", model_provider=\"google_genai\")\n",
    "agent = create_react_agent(\n",
    "    tools=[tavily_search_tool],\n",
    "    model=llm\n",
    ")"
   ]
  },
  {
   "cell_type": "code",
   "execution_count": null,
   "metadata": {},
   "outputs": [],
   "source": [
    "def ask_agent_stream(company_name):\n",
    "    user_input = f\"What are potential red flag about company called {company_name} as a potential business partner. Prepare a markdown summary. Provide links and informations you got from tools\"\n",
    "\n",
    "    response = agent.invoke({\"messages\": user_input})\n",
    "    return response[\"messages\"][-1].content\n",
    "\n",
    "\n"
   ]
  },
  {
   "cell_type": "code",
   "execution_count": null,
   "metadata": {},
   "outputs": [
    {
     "name": "stdout",
     "output_type": "stream",
     "text": [
      "* Running on local URL:  http://127.0.0.1:7873\n",
      "* To create a public link, set `share=True` in `launch()`.\n"
     ]
    },
    {
     "data": {
      "text/html": [
       "<div><iframe src=\"http://127.0.0.1:7873/\" width=\"100%\" height=\"500\" allow=\"autoplay; camera; microphone; clipboard-read; clipboard-write;\" frameborder=\"0\" allowfullscreen></iframe></div>"
      ],
      "text/plain": [
       "<IPython.core.display.HTML object>"
      ]
     },
     "metadata": {},
     "output_type": "display_data"
    },
    {
     "data": {
      "text/plain": []
     },
     "execution_count": 31,
     "metadata": {},
     "output_type": "execute_result"
    }
   ],
   "source": [
    "import gradio as gr\n",
    "\n",
    "with gr.Blocks() as app:\n",
    "    gr.Markdown(\"## Company Application Processor\")\n",
    "\n",
    "    company_name = gr.Textbox(label=\"Company name\")\n",
    "    start_button = gr.Button(\"Start information gathering\")\n",
    "\n",
    "    summary = gr.Markdown(\"**Summary**\")\n",
    "    result = gr.Markdown(\"\", container=True)\n",
    "\n",
    "    start_button.click(fn=ask_agent_stream, inputs=[company_name], outputs=[result])\n",
    "\n",
    "app.launch()\n"
   ]
  },
  {
   "cell_type": "code",
   "execution_count": null,
   "metadata": {},
   "outputs": [],
   "source": [
    "['__class__', '__class_getitem__', '__contains__', '__delattr__', '__delitem__', '__dir__', '__doc__', '__eq__', '__format__', '__ge__', '__getattribute__', '__getitem__', '__gt__', '__hash__', '__init__', '__init_subclass__', '__ior__', '__iter__', '__le__', '__len__', '__lt__', '__ne__', '__new__', '__or__', '__reduce__', '__reduce_ex__', '__repr__', '__reversed__', '__ror__', '__setattr__', '__setitem__', '__sizeof__', '__str__', '__subclasshook__', 'clear', 'copy', 'fromkeys', 'get', 'items', 'keys', 'pop', 'popitem', 'setdefault', 'update', 'values']\n"
   ]
  },
  {
   "cell_type": "code",
   "execution_count": null,
   "metadata": {},
   "outputs": [],
   "source": [
    "{'messages': [HumanMessage(content='What are potential red flag about company called Spotify as a potential business partner', additional_kwargs={}, response_metadata={}, id='a9d44795-fbe3-4596-912e-5c1d66d5b590'), AIMessage(content='', additional_kwargs={'function_call': {'name': 'tavily_search', 'arguments': '{\"query\": \"Spotify potential red flags as business partner\"}'}}, response_metadata={'prompt_feedback': {'block_reason': 0, 'safety_ratings': []}, 'finish_reason': 'STOP', 'model_name': 'gemini-2.5-flash', 'safety_ratings': []}, id='run--14317fbe-6659-45af-ae69-b48dadc43bc7-0', tool_calls=[{'name': 'tavily_search', 'args': {'query': 'Spotify potential red flags as business partner'}, 'id': 'c587fb15-290d-40e8-a4db-469fd8149fae', 'type': 'tool_call'}], usage_metadata={'input_tokens': 1254, 'output_tokens': 122, 'total_tokens': 1376, 'input_token_details': {'cache_read': 0}, 'output_token_details': {'reasoning': 99}}), ToolMessage(content='{\"query\": \"Spotify potential red flags as business partner\", \"follow_up_questions\": null, \"answer\": null, \"images\": [], \"results\": [{\"url\": \"https://open.spotify.com/episode/4iyghhTWsV3LFvin12xKg8\", \"title\": \"Legal partnership red flags in business - explained by a lawyer\", \"content\": \"... Spotify. Let\\'s understand the potential red flags around legal partnerships in businessHave you ever found yourself caught up in the\", \"score\": 0.6685563, \"raw_content\": null}, {\"url\": \"https://insightxintel.com/barcelona-spotify-sports-sponsorship-deal/\", \"title\": \"Red flags from Barcelona FC\\'s deal with Spotify - InsightX\", \"content\": \"Barcelona FC has announced a £236m sponsorship deal with Spotify, which includes the men\\'s and women\\'s teams bearing the logo on their shirts.\", \"score\": 0.52802294, \"raw_content\": null}, {\"url\": \"https://jesterhoax.medium.com/the-spotify-pitch-fc7e75e815c7\", \"title\": \"The Spotify Pitch. How we used a comic-book and a big idea…\", \"content\": \"They were not publicly listed. There was no tenders. (this was usually the biggest red flag); There were no non-disclosure agreements. There\", \"score\": 0.4877716, \"raw_content\": null}, {\"url\": \"https://podcasters.spotify.com/pod/show/laconyamurray/episodes/164--Dont-Sign-That-Yet--Important-Contract-Red-Flags-Every-Business-Owner-Should-Recognize-e35pur2\", \"title\": \"Own Your Genius with LaConya Murray - Spotify for Creators\", \"content\": \"You\\'ll learn how to spot red flags, negotiate terms, and protect your business like a CEO. [Register now – it\\'s free to attend live. Replay available for to all\", \"score\": 0.4296453, \"raw_content\": null}, {\"url\": \"https://daimoon.media/knowledge/music-promotion-services-to-avoid/\", \"title\": \"Music Promotion Services and red flags that you should absolutely ...\", \"content\": \"2. Social Media Promotion Scams · Followers – Who are they? Do they have profile pictures? · Post engagement – Do they have 1m followers but 100 likes on their\", \"score\": 0.32341266, \"raw_content\": null}], \"response_time\": 1.23, \"request_id\": \"20a3d550-add0-4d64-bf09-2a956eca883e\"}', name='tavily_search', id='0b615474-e372-426a-8c26-0851f294cc0d', tool_call_id='c587fb15-290d-40e8-a4db-469fd8149fae'), AIMessage(content='When considering Spotify as a potential business partner, some general \"red flags\" to be aware of, based on the search results, could include:\\n\\n*   **Lack of Public Listing/Tenders:** One article mentioned a past situation where Spotify was not publicly listed and there were no tenders, which was considered a \"biggest red flag.\" This could imply a lack of transparency in certain business dealings.\\n*   **Absence of NDAs:** The same article also highlighted the absence of non-disclosure agreements in a particular pitch, which could be a concern for protecting sensitive information.\\n*   **Sponsorship Deal Specifics:** While not a direct \"red flag\" about Spotify\\'s general business practices, the article discussing the Barcelona FC sponsorship deal mentioned \"red flags\" from *that specific deal*. This suggests that the terms and transparency of individual agreements with Spotify should be scrutinized carefully.\\n\\nIt\\'s important to remember that these are past observations or specific instances, and a comprehensive assessment would require due diligence on the current business practices and the specific type of partnership you are considering.', additional_kwargs={}, response_metadata={'prompt_feedback': {'block_reason': 0, 'safety_ratings': []}, 'finish_reason': 'STOP', 'model_name': 'gemini-2.5-flash', 'safety_ratings': []}, id='run--6a443009-576c-445b-9a5e-97960dd7e668-0', usage_metadata={'input_tokens': 1930, 'output_tokens': 218, 'total_tokens': 2148, 'input_token_details': {'cache_read': 0}})]}\n"
   ]
  },
  {
   "cell_type": "code",
   "execution_count": null,
   "metadata": {},
   "outputs": [],
   "source": []
  },
  {
   "cell_type": "code",
   "execution_count": null,
   "metadata": {},
   "outputs": [],
   "source": []
  },
  {
   "cell_type": "code",
   "execution_count": null,
   "metadata": {},
   "outputs": [],
   "source": []
  }
 ],
 "metadata": {
  "kernelspec": {
   "display_name": "Python 3",
   "language": "python",
   "name": "python3"
  },
  "language_info": {
   "codemirror_mode": {
    "name": "ipython",
    "version": 3
   },
   "file_extension": ".py",
   "mimetype": "text/x-python",
   "name": "python",
   "nbconvert_exporter": "python",
   "pygments_lexer": "ipython3",
   "version": "3.10.6"
  }
 },
 "nbformat": 4,
 "nbformat_minor": 2
}
