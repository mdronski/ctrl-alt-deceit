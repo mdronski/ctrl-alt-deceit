{
 "cells": [
  {
   "cell_type": "code",
   "execution_count": 10,
   "metadata": {},
   "outputs": [
    {
     "name": "stdout",
     "output_type": "stream",
     "text": [
      "* Running on local URL:  http://127.0.0.1:7868\n",
      "* To create a public link, set `share=True` in `launch()`.\n"
     ]
    },
    {
     "data": {
      "text/html": [
       "<div><iframe src=\"http://127.0.0.1:7868/\" width=\"100%\" height=\"500\" allow=\"autoplay; camera; microphone; clipboard-read; clipboard-write;\" frameborder=\"0\" allowfullscreen></iframe></div>"
      ],
      "text/plain": [
       "<IPython.core.display.HTML object>"
      ]
     },
     "metadata": {},
     "output_type": "display_data"
    },
    {
     "data": {
      "text/plain": []
     },
     "execution_count": 10,
     "metadata": {},
     "output_type": "execute_result"
    }
   ],
   "source": [
    "import gradio as gr\n",
    "import time\n",
    "\n",
    "# Processing function with logs\n",
    "\n",
    "def process(company_name):\n",
    "    logs = []\n",
    "\n",
    "    for i in range(3):\n",
    "        log = f\"Step {i+1}: Processing {company_name}...\"\n",
    "        logs.append(log)\n",
    "        yield \"\\n\".join(logs), \"\"  # logs, result\n",
    "        time.sleep(0.2)\n",
    "\n",
    "    result = f\"### Result\\nAll tasks completed for {company_name}. ✅\"\n",
    "    yield \"\\n\".join(logs), result\n",
    "\n",
    "\n",
    "def update_logs_display(logs_state):\n",
    "    return logs_state\n",
    "\n",
    "\n",
    "# Gradio Blocks UI\n",
    "with gr.Blocks() as demo:\n",
    "    gr.Markdown(\"## Company Application Processor\")\n",
    "\n",
    "    company_name = gr.Textbox(label=\"Company name\")\n",
    "    start_btn = gr.Button(\"Start application\")\n",
    "\n",
    "    logs_display = gr.Textbox(lines=5)\n",
    "\n",
    "    summary = gr.Markdown(\"**Summary**\")\n",
    "    result = gr.Markdown(\"\", container=True)\n",
    "\n",
    "    start_btn.click(fn=process, inputs=company_name, outputs=[logs_display, result])\n",
    "\n",
    "demo.launch()\n"
   ]
  },
  {
   "cell_type": "code",
   "execution_count": null,
   "metadata": {},
   "outputs": [],
   "source": []
  },
  {
   "cell_type": "code",
   "execution_count": null,
   "metadata": {},
   "outputs": [],
   "source": []
  }
 ],
 "metadata": {
  "kernelspec": {
   "display_name": "mdronski",
   "language": "python",
   "name": "python3"
  },
  "language_info": {
   "codemirror_mode": {
    "name": "ipython",
    "version": 3
   },
   "file_extension": ".py",
   "mimetype": "text/x-python",
   "name": "python",
   "nbconvert_exporter": "python",
   "pygments_lexer": "ipython3",
   "version": "3.10.6"
  }
 },
 "nbformat": 4,
 "nbformat_minor": 2
}
